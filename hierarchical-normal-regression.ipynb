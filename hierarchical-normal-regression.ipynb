{
 "cells": [
  {
   "cell_type": "markdown",
   "metadata": {},
   "source": [
    "Here we will try to build a hierarchical regression model, where each component (i.e. dimension) is normally distributed.  In microbial ecology, we are creating this generative model, because we expect microbes to be normally distributed around an optimal environment.  For instance, microbes have been noted to only exist in specific pH ranges.\n",
    "\n",
    "The model that we are trying to build is parametered as follows\n",
    "\n",
    "$$ x_j \\sim N(u_j, \\sigma_j)$$\n",
    "\n",
    "where $x_i$ is the $i_{th}$ species, that is distributed around $u_i$, which is a value\n",
    "\n",
    "$$ u \\; |\\; G \\sim N(G\\beta,\\; \\Sigma_G)$$\n",
    "\n",
    "Let's first try to simulate some data, and see if we can fit it."
   ]
  },
  {
   "cell_type": "code",
   "execution_count": 1,
   "metadata": {
    "collapsed": true
   },
   "outputs": [],
   "source": [
    "import numpy as np\n",
    "import matplotlib.pyplot as plt\n",
    "from scipy.stats import norm, poisson, multinomial, multivariate_normal\n",
    "%matplotlib inline"
   ]
  },
  {
   "cell_type": "code",
   "execution_count": 4,
   "metadata": {
    "collapsed": true
   },
   "outputs": [],
   "source": [
    "num_samples = 50\n",
    "num_features = 20\n",
    "gradient = np.linspace(0, 10, num_samples)\n",
    "mu = np.linspace(0, 10, num_features)\n",
    "sigma = 2\n",
    "xs = [norm.pdf(gradient, loc=mu[i], scale=sigma)\n",
    "      for i in range(len(mu))]\n",
    "table = np.vstack(xs).T"
   ]
  },
  {
   "cell_type": "code",
   "execution_count": 13,
   "metadata": {},
   "outputs": [
    {
     "data": {
      "text/plain": [
       "<matplotlib.image.AxesImage at 0x11d5d8f60>"
      ]
     },
     "execution_count": 13,
     "metadata": {},
     "output_type": "execute_result"
    },
    {
     "data": {
      "image/png": "[encoded data removed]",
      "text/plain": [
       "<matplotlib.figure.Figure at 0x11d381dd8>"
      ]
     },
     "metadata": {},
     "output_type": "display_data"
    }
   ],
   "source": [
    "plt.imshow(table, aspect='auto', interpolation='nearest')"
   ]
  },
  {
   "cell_type": "markdown",
   "metadata": {},
   "source": [
    "Here, we expect $\\beta \\approx \\frac{100}{10}$.  Let's attempt to parameterize our model below."
   ]
  },
  {
   "cell_type": "code",
   "execution_count": 32,
   "metadata": {
    "collapsed": true
   },
   "outputs": [],
   "source": [
    "import pystan\n",
    "\n",
    "#----------------------------------------------\n",
    "# Create the Stan model\n",
    "#  this is done by defining a string of Stan code.\n",
    "\n",
    "fit_code = open('model.stan', 'r').read()"
   ]
  },
  {
   "cell_type": "code",
   "execution_count": 33,
   "metadata": {},
   "outputs": [
    {
     "name": "stderr",
     "output_type": "stream",
     "text": [
      "INFO:pystan:COMPILING THE C++ CODE FOR MODEL anon_model_bf2ff2c5bdff7bc0d53da1c6d149a738 NOW.\n"
     ]
    }
   ],
   "source": [
    "# perform the fit\n",
    "fit_data = {'N': len(gradient), 'D': table.shape[1], 'x': table.T, 'g': gradient}\n",
    "fit = pystan.stan(model_code=fit_code, data=fit_data, iter=25000, chains=4)"
   ]
  },
  {
   "cell_type": "code",
   "execution_count": 38,
   "metadata": {
    "collapsed": true
   },
   "outputs": [],
   "source": [
    "traces = fit.extract()"
   ]
  },
  {
   "cell_type": "code",
   "execution_count": 47,
   "metadata": {},
   "outputs": [
    {
     "data": {
      "text/plain": [
       "array([ 5.00000005,  5.00000005,  5.00000005,  5.00000004,  5.00000003,\n",
       "        5.00000002,  5.00000001,  5.00000001,  5.        ,  5.        ,\n",
       "        5.        ,  4.99999999,  4.99999999,  4.99999998,  4.99999998,\n",
       "        4.99999997,  4.99999996,  4.99999996,  4.99999995,  4.99999995])"
      ]
     },
     "execution_count": 47,
     "metadata": {},
     "output_type": "execute_result"
    }
   ],
   "source": [
    "traces['mu'][5000:, :].mean(axis=0)"
   ]
  },
  {
   "cell_type": "code",
   "execution_count": 25,
   "metadata": {},
   "outputs": [
    {
     "data": {
      "text/plain": [
       "array([ 0.06367341,  0.07074737,  0.07676219,  0.08039202,  0.08370377,\n",
       "        0.07501824,  0.08325776,  0.07569326,  0.07581956,  0.0719533 ])"
      ]
     },
     "execution_count": 25,
     "metadata": {},
     "output_type": "execute_result"
    }
   ],
   "source": [
    "traces['u'].mean(axis=0)"
   ]
  },
  {
   "cell_type": "code",
   "execution_count": null,
   "metadata": {
    "collapsed": true
   },
   "outputs": [],
   "source": []
  }
 ],
 "metadata": {
  "kernelspec": {
   "display_name": "Python 3",
   "language": "python",
   "name": "python3"
  },
  "language_info": {
   "codemirror_mode": {
    "name": "ipython",
    "version": 3
   },
   "file_extension": ".py",
   "mimetype": "text/x-python",
   "name": "python",
   "nbconvert_exporter": "python",
   "pygments_lexer": "ipython3",
   "version": "3.6.2"
  }
 },
 "nbformat": 4,
 "nbformat_minor": 2
}
