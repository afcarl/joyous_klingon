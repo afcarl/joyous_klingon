{
 "cells": [
  {
   "cell_type": "markdown",
   "metadata": {},
   "source": [
    "Here we will try to build a hierarchical regression model, where each component (i.e. dimension) is normally distributed.  In microbial ecology, we are creating this generative model, because we expect microbes to be normally distributed around an optimal environment.  For instance, microbes have been noted to only exist in specific pH ranges.\n",
    "\n",
    "The model that we are trying to build is parametered as follows\n",
    "\n",
    "$$ x_j \\sim N(u_j, \\sigma_j)$$\n",
    "\n",
    "where $x_i$ is the $i_{th}$ species, that is distributed around $u_i$, which is a value\n",
    "\n",
    "$$ u \\; |\\; G \\sim N(G\\beta,\\; \\Sigma_G)$$\n",
    "\n",
    "Let's first try to simulate some data, and see if we can fit it."
   ]
  },
  {
   "cell_type": "code",
   "execution_count": 1,
   "metadata": {
    "collapsed": true
   },
   "outputs": [],
   "source": [
    "import numpy as np\n",
    "import matplotlib.pyplot as plt\n",
    "from scipy.stats import norm, poisson, multinomial, multivariate_normal\n",
    "%matplotlib inline"
   ]
  },
  {
   "cell_type": "code",
   "execution_count": 2,
   "metadata": {
    "collapsed": true
   },
   "outputs": [],
   "source": [
    "num_samples = 5\n",
    "num_features = 10\n",
    "gradient = np.linspace(0, 10, num_samples)\n",
    "mu = np.linspace(0, 10, num_features)\n",
    "sigma = 2\n",
    "xs = [norm.pdf(gradient, loc=mu[i], scale=sigma)\n",
    "      for i in range(len(mu))]\n",
    "table = np.vstack(xs).T"
   ]
  },
  {
   "cell_type": "code",
   "execution_count": 3,
   "metadata": {},
   "outputs": [
    {
     "data": {
      "text/plain": [
       "<matplotlib.image.AxesImage at 0x11139ceb8>"
      ]
     },
     "execution_count": 3,
     "metadata": {},
     "output_type": "execute_result"
    },
    {
     "data": {
      "image/png": "[encoded data removed]",
      "text/plain": [
       "<matplotlib.figure.Figure at 0x10def1be0>"
      ]
     },
     "metadata": {},
     "output_type": "display_data"
    }
   ],
   "source": [
    "plt.imshow(table, aspect='auto', interpolation='nearest')"
   ]
  },
  {
   "cell_type": "markdown",
   "metadata": {},
   "source": [
    "Here, we expect $\\beta \\approx \\frac{10}{5}$.  Let's attempt to parameterize our model below."
   ]
  },
  {
   "cell_type": "code",
   "execution_count": 4,
   "metadata": {
    "collapsed": true
   },
   "outputs": [],
   "source": [
    "import pystan\n",
    "\n",
    "#----------------------------------------------\n",
    "# Create the Stan model\n",
    "#  this is done by defining a string of Stan code.\n",
    "\n",
    "fit_code = \"\"\"\n",
    "data {\n",
    "    int<lower=0> N;  // number of samples\n",
    "    int<lower=0> D;  // number of dimensions\n",
    "    real g[N];       // gradient values\n",
    "    matrix[D, N] x;  // microbe abundances\n",
    "}\n",
    "\n",
    "parameters {\n",
    "    real u[D];              // means for each species distribution\n",
    "    real<lower=0> sigma[D]; // variance for each species distribution\n",
    "    // parameters required for linear regression on the species means\n",
    "    real alpha;\n",
    "    real beta;\n",
    "    real<lower=0> sigmaG;\n",
    "}\n",
    "\n",
    "\n",
    "model {\n",
    "\n",
    "    alpha ~ normal(0,10);    \n",
    "    beta ~ normal(0,10);        \n",
    "    sigmaG ~ cauchy(0,5);\n",
    "    for (i in 1:N)\n",
    "        u[i] ~ normal(alpha + beta * g[i], sigmaG);\n",
    "\n",
    "    for (j in 1:D){\n",
    "        sigma[j] ~ cauchy(0,5);\n",
    "        for (i in 1:N)\n",
    "            x[j, i] ~ normal(u[j], sigma[j]);\n",
    "    }\n",
    "}\n",
    "\"\"\""
   ]
  },
  {
   "cell_type": "code",
   "execution_count": 5,
   "metadata": {},
   "outputs": [
    {
     "name": "stderr",
     "output_type": "stream",
     "text": [
      "INFO:pystan:COMPILING THE C++ CODE FOR MODEL anon_model_5e7ea3c33ae3a5451feaf5b5156cb95a NOW.\n"
     ]
    }
   ],
   "source": [
    "# perform the fit\n",
    "fit_data = {'N': len(gradient), 'D': table.shape[1], 'x': table.T, 'g': gradient}\n",
    "fit = pystan.stan(model_code=fit_code, data=fit_data, iter=25000, chains=4)"
   ]
  },
  {
   "cell_type": "code",
   "execution_count": 6,
   "metadata": {},
   "outputs": [
    {
     "data": {
      "text/plain": [
       "Inference for Stan model: anon_model_5e7ea3c33ae3a5451feaf5b5156cb95a.\n",
       "4 chains, each with iter=25000; warmup=12500; thin=1; \n",
       "post-warmup draws per chain=12500, total post-warmup draws=50000.\n",
       "\n",
       "           mean se_mean     sd   2.5%    25%    50%    75%  97.5%  n_eff   Rhat\n",
       "u[0]       0.06  9.9e-4   0.04  -0.03   0.04   0.06   0.09   0.15   1995    1.0\n",
       "u[1]       0.07  7.8e-4   0.04-6.0e-3   0.05   0.07   0.09   0.15   2286    1.0\n",
       "u[2]       0.08  5.7e-4   0.03 9.6e-3   0.06   0.08    0.1   0.14   3415    1.0\n",
       "u[3]       0.08  1.1e-3   0.04 8.7e-3   0.06   0.08    0.1   0.15    994    1.0\n",
       "u[4]       0.08  1.3e-3   0.04 1.8e-4   0.06   0.08   0.11   0.17   1036    1.0\n",
       "u[5]       0.08  4.8e-3   0.06  -0.04   0.04   0.07   0.11    0.2    169   1.02\n",
       "u[6]       0.08  2.8e-3   0.06  -0.04   0.05   0.08   0.12   0.21    527   1.01\n",
       "u[7]       0.08  2.5e-3   0.07  -0.04   0.04   0.07   0.11   0.21    725   1.01\n",
       "u[8]       0.08  4.3e-3   0.07  -0.06   0.04   0.08   0.11    0.2    262   1.02\n",
       "u[9]       0.07  7.6e-3   0.08  -0.07   0.03   0.07   0.11   0.22    107   1.04\n",
       "sigma[0]   0.12  5.3e-3   0.07   0.06   0.07    0.1   0.14    0.3    175   1.02\n",
       "sigma[1]   0.12  7.7e-4   0.06   0.06   0.08    0.1   0.13   0.27   5731    1.0\n",
       "sigma[2]   0.11  4.0e-3   0.06   0.05   0.07   0.09   0.13   0.25    214   1.02\n",
       "sigma[3]    0.1  4.5e-3   0.06   0.05   0.07   0.09   0.12   0.24    161   1.03\n",
       "sigma[4]   0.12  6.6e-3   0.07   0.05   0.08    0.1   0.14   0.27    107   1.04\n",
       "sigma[5]   0.13  3.4e-3   0.08   0.05   0.08   0.11   0.14   0.34    555   1.01\n",
       "sigma[6]   0.12  2.4e-3   0.08   0.05   0.08   0.11   0.14   0.31   1152   1.01\n",
       "sigma[7]   0.13  3.1e-3   0.09   0.06   0.08   0.11   0.14   0.36    802   1.01\n",
       "sigma[8]   0.13  5.8e-3   0.09   0.06   0.08    0.1   0.15   0.34    265   1.02\n",
       "sigma[9]   0.13  4.7e-3   0.09   0.06   0.08   0.11   0.15   0.41    388   1.01\n",
       "alpha      0.07  1.3e-3   0.09  -0.07   0.04   0.06    0.1    0.2   4534    1.0\n",
       "beta     1.8e-3  2.3e-4   0.01  -0.02-3.0e-3 2.0e-3 7.4e-3   0.02   4000    1.0\n",
       "sigmaG     0.05  2.9e-3    0.1 4.0e-3   0.01   0.03   0.06   0.23   1296   1.01\n",
       "lp__      80.94    0.65    5.8  68.54  77.21  81.24  85.48   90.7     80   1.06\n",
       "\n",
       "Samples were drawn using NUTS at Tue Sep 19 17:02:25 2017.\n",
       "For each parameter, n_eff is a crude measure of effective sample size,\n",
       "and Rhat is the potential scale reduction factor on split chains (at \n",
       "convergence, Rhat=1)."
      ]
     },
     "execution_count": 6,
     "metadata": {},
     "output_type": "execute_result"
    }
   ],
   "source": [
    "fit"
   ]
  },
  {
   "cell_type": "code",
   "execution_count": 7,
   "metadata": {
    "collapsed": true
   },
   "outputs": [],
   "source": [
    "traces = fit.extract()"
   ]
  },
  {
   "cell_type": "code",
   "execution_count": 23,
   "metadata": {},
   "outputs": [
    {
     "data": {
      "text/plain": [
       "array([  0. ,   2.5,   5. ,   7.5,  10. ])"
      ]
     },
     "execution_count": 23,
     "metadata": {},
     "output_type": "execute_result"
    }
   ],
   "source": [
    "gradient"
   ]
  },
  {
   "cell_type": "code",
   "execution_count": 25,
   "metadata": {},
   "outputs": [
    {
     "data": {
      "text/plain": [
       "array([ 0.06367341,  0.07074737,  0.07676219,  0.08039202,  0.08370377,\n",
       "        0.07501824,  0.08325776,  0.07569326,  0.07581956,  0.0719533 ])"
      ]
     },
     "execution_count": 25,
     "metadata": {},
     "output_type": "execute_result"
    }
   ],
   "source": [
    "traces['u'].mean(axis=0)"
   ]
  },
  {
   "cell_type": "code",
   "execution_count": null,
   "metadata": {
    "collapsed": true
   },
   "outputs": [],
   "source": []
  }
 ],
 "metadata": {
  "kernelspec": {
   "display_name": "Python 3",
   "language": "python",
   "name": "python3"
  },
  "language_info": {
   "codemirror_mode": {
    "name": "ipython",
    "version": 3
   },
   "file_extension": ".py",
   "mimetype": "text/x-python",
   "name": "python",
   "nbconvert_exporter": "python",
   "pygments_lexer": "ipython3",
   "version": "3.6.2"
  }
 },
 "nbformat": 4,
 "nbformat_minor": 2
}
