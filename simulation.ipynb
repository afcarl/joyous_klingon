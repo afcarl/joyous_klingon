{
 "cells": [
  {
   "cell_type": "markdown",
   "metadata": {},
   "source": [
    "We will try to fit the following model\n",
    "\n",
    "<img src=\"model.jpg\" />\n",
    "\n",
    "We'll try to model something relatively close to the 88 soils example\n",
    "\n",
    "So we'll let the unobserved variables $\\beta_0=16$ , $\\beta_1 = -3$, and $\\Lambda = \\begin{bmatrix}1\\\\ \\vdots \\\\-1\\end{bmatrix}$.\n",
    "\n",
    "The we'll let the observed variable $g_j \\in [3, 9]$"
   ]
  },
  {
   "cell_type": "code",
   "execution_count": 1,
   "metadata": {
    "collapsed": true
   },
   "outputs": [],
   "source": [
    "import numpy as np\n",
    "import pandas as pd\n",
    "import matplotlib.pyplot as plt\n",
    "from scipy.stats import norm, poisson, multinomial, multivariate_normal\n",
    "%matplotlib inline"
   ]
  },
  {
   "cell_type": "code",
   "execution_count": 2,
   "metadata": {
    "collapsed": true
   },
   "outputs": [],
   "source": [
    "num_samples = 20\n",
    "num_features = 32\n",
    "rank = 3\n",
    "gradient = np.linspace(0, 10, num_samples)\n",
    "mu = np.linspace(0, 10, num_features)\n",
    "sigma = 2\n",
    "xs = [norm.pdf(gradient, loc=mu[i], scale=sigma)\n",
    "      for i in range(len(mu))]\n",
    "table = np.vstack(xs).T\n",
    "table = pd.DataFrame(table)\n",
    "table.index = table.index.astype(np.str)\n",
    "table.columns = table.columns.astype(np.str)"
   ]
  },
  {
   "cell_type": "code",
   "execution_count": 3,
   "metadata": {},
   "outputs": [
    {
     "data": {
      "text/plain": [
       "<matplotlib.image.AxesImage at 0x11bd8a080>"
      ]
     },
     "execution_count": 3,
     "metadata": {},
     "output_type": "execute_result"
    },
    {
     "data": {
      "image/png": "[encoded data removed]",
      "text/plain": [
       "<matplotlib.figure.Figure at 0x118a02898>"
      ]
     },
     "metadata": {},
     "output_type": "display_data"
    }
   ],
   "source": [
    "plt.imshow(table.values, aspect='auto', interpolation='nearest')"
   ]
  },
  {
   "cell_type": "code",
   "execution_count": 4,
   "metadata": {
    "collapsed": true
   },
   "outputs": [],
   "source": [
    "from gneiss.cluster import rank_linkage\n",
    "x = pd.Series(np.arange(num_features))\n",
    "x.index = x.index.astype(np.str)\n",
    "tree = rank_linkage(x)"
   ]
  },
  {
   "cell_type": "code",
   "execution_count": 5,
   "metadata": {
    "scrolled": false
   },
   "outputs": [
    {
     "name": "stdout",
     "output_type": "stream",
     "text": [
      "                                                  /-0\n",
      "                                        /y15-----|\n",
      "                                       |          \\-1\n",
      "                              /y7------|\n",
      "                             |         |          /-2\n",
      "                             |          \\y16-----|\n",
      "                             |                    \\-3\n",
      "                    /y3------|\n",
      "                   |         |                    /-4\n",
      "                   |         |          /y17-----|\n",
      "                   |         |         |          \\-5\n",
      "                   |          \\y8------|\n",
      "                   |                   |          /-6\n",
      "                   |                    \\y18-----|\n",
      "                   |                              \\-7\n",
      "          /y1------|\n",
      "         |         |                              /-8\n",
      "         |         |                    /y19-----|\n",
      "         |         |                   |          \\-9\n",
      "         |         |          /y9------|\n",
      "         |         |         |         |          /-10\n",
      "         |         |         |          \\y20-----|\n",
      "         |         |         |                    \\-11\n",
      "         |          \\y4------|\n",
      "         |                   |                    /-12\n",
      "         |                   |          /y21-----|\n",
      "         |                   |         |          \\-13\n",
      "         |                    \\y10-----|\n",
      "         |                             |          /-14\n",
      "         |                              \\y22-----|\n",
      "         |                                        \\-15\n",
      "-y0------|\n",
      "         |                                        /-16\n",
      "         |                              /y23-----|\n",
      "         |                             |          \\-17\n",
      "         |                    /y11-----|\n",
      "         |                   |         |          /-18\n",
      "         |                   |          \\y24-----|\n",
      "         |                   |                    \\-19\n",
      "         |          /y5------|\n",
      "         |         |         |                    /-20\n",
      "         |         |         |          /y25-----|\n",
      "         |         |         |         |          \\-21\n",
      "         |         |          \\y12-----|\n",
      "         |         |                   |          /-22\n",
      "         |         |                    \\y26-----|\n",
      "         |         |                              \\-23\n",
      "          \\y2------|\n",
      "                   |                              /-24\n",
      "                   |                    /y27-----|\n",
      "                   |                   |          \\-25\n",
      "                   |          /y13-----|\n",
      "                   |         |         |          /-26\n",
      "                   |         |          \\y28-----|\n",
      "                   |         |                    \\-27\n",
      "                    \\y6------|\n",
      "                             |                    /-28\n",
      "                             |          /y29-----|\n",
      "                             |         |          \\-29\n",
      "                              \\y14-----|\n",
      "                                       |          /-30\n",
      "                                        \\y30-----|\n",
      "                                                  \\-31\n"
     ]
    }
   ],
   "source": [
    "print(tree.ascii_art())"
   ]
  },
  {
   "cell_type": "code",
   "execution_count": 6,
   "metadata": {
    "collapsed": true
   },
   "outputs": [],
   "source": [
    "from gneiss.composition import ilr_transform\n",
    "balances = ilr_transform(table, tree)"
   ]
  },
  {
   "cell_type": "code",
   "execution_count": 18,
   "metadata": {},
   "outputs": [
    {
     "data": {
      "text/plain": [
       "<matplotlib.collections.PathCollection at 0x11d5b2f60>"
      ]
     },
     "execution_count": 18,
     "metadata": {},
     "output_type": "execute_result"
    },
    {
     "data": {
      "image/png": "[encoded data removed]",
      "text/plain": [
       "<matplotlib.figure.Figure at 0x11cbc4668>"
      ]
     },
     "metadata": {},
     "output_type": "display_data"
    }
   ],
   "source": [
    "plt.scatter(gradient, balances.y0, label='y0', c='b')\n",
    "plt.scatter(gradient, balances.y1, label='y1', c='#FFA500')\n",
    "plt.scatter(gradient, balances.y2, label='y2', c='g')"
   ]
  },
  {
   "cell_type": "code",
   "execution_count": 10,
   "metadata": {
    "collapsed": true
   },
   "outputs": [],
   "source": [
    "def ols(Y, X):\n",
    "    n, p = X.shape\n",
    "    inv = np.linalg.pinv(np.dot(X.T, X))\n",
    "    cross = np.dot(inv, X.T)\n",
    "    beta = np.dot(cross, Y)\n",
    "    pY = np.dot(X, beta)\n",
    "    resid = (Y - pY)\n",
    "    sst = (Y - Y.mean(axis=0))\n",
    "    sse = (resid**2).sum(axis=0)\n",
    "\n",
    "    sst_balance = ((Y - Y.mean(axis=0))**2).sum(axis=0)\n",
    "\n",
    "    sse_balance = (resid**2).sum(axis=0)\n",
    "    ssr_balance = (sst_balance - sse_balance)\n",
    "\n",
    "    df_resid = n - p + 1\n",
    "    mse = sse / df_resid\n",
    "    # t tests\n",
    "    cov = np.linalg.pinv(np.dot(X.T, X))\n",
    "    return pY, resid, beta, cov"
   ]
  },
  {
   "cell_type": "code",
   "execution_count": 11,
   "metadata": {
    "collapsed": true
   },
   "outputs": [],
   "source": [
    "Y = balances.values\n",
    "X = gradient.reshape(-1, 1)\n",
    "X = np.hstack((np.ones(len(X)).reshape(-1, 1), X.reshape(-1, 1)))\n",
    "pY, resid, beta, cov = ols(Y, X)"
   ]
  },
  {
   "cell_type": "code",
   "execution_count": 12,
   "metadata": {
    "collapsed": true
   },
   "outputs": [],
   "source": [
    "beta0 = np.ravel(beta[0, :]).reshape(-1, 1)\n",
    "beta1 = np.ravel(beta[1, :]).reshape(-1, 1)"
   ]
  },
  {
   "cell_type": "code",
   "execution_count": 13,
   "metadata": {
    "collapsed": true
   },
   "outputs": [],
   "source": [
    "from numpy.random import multivariate_normal, multinomial\n",
    "from gneiss.balances import balance_basis\n",
    "from gneiss.util import band_diagonal\n",
    "from skbio.stats.composition import ilr_inv\n",
    "\n",
    "sigma = np.eye(len(beta0)) \n",
    "#sigma = band_diagonal(len(beta0), 2)\n",
    "#sigma = sigma * 2\n",
    "#sigma = np.hstack((np.zeros(len(beta0)).reshape(-1, 1), sigma))\n",
    "#sigma[0, 0] = 1\n",
    "\n",
    "y = X.dot(beta)\n",
    "Ys = np.vstack([multivariate_normal(y[i, :], sigma) for i in range(y.shape[0])])\n",
    "basis, _ = balance_basis(tree)\n",
    "Yp = ilr_inv(Ys, basis)\n",
    "\n",
    "N = 200   # sampling depth\n",
    "Yc = np.vstack(multinomial(N, Yp[i, :]) for i in range(y.shape[0]))"
   ]
  },
  {
   "cell_type": "code",
   "execution_count": 14,
   "metadata": {},
   "outputs": [
    {
     "data": {
      "text/plain": [
       "<matplotlib.text.Text at 0x11cac9358>"
      ]
     },
     "execution_count": 14,
     "metadata": {},
     "output_type": "execute_result"
    },
    {
     "data": {
      "image/png": "[encoded data removed]",
      "text/plain": [
       "<matplotlib.figure.Figure at 0x11cb6ee10>"
      ]
     },
     "metadata": {},
     "output_type": "display_data"
    }
   ],
   "source": [
    "plt.imshow(Yp, aspect='auto', interpolation='nearest')\n",
    "plt.colorbar(label='proportions')\n",
    "plt.xlabel('species')\n",
    "plt.ylabel('samples')"
   ]
  },
  {
   "cell_type": "code",
   "execution_count": 15,
   "metadata": {},
   "outputs": [
    {
     "data": {
      "text/plain": [
       "<matplotlib.text.Text at 0x11d0bf9b0>"
      ]
     },
     "execution_count": 15,
     "metadata": {},
     "output_type": "execute_result"
    },
    {
     "data": {
      "image/png": "[encoded data removed]",
      "text/plain": [
       "<matplotlib.figure.Figure at 0x11d07e320>"
      ]
     },
     "metadata": {},
     "output_type": "display_data"
    }
   ],
   "source": [
    "plt.imshow(Yc, aspect='auto', interpolation='nearest')\n",
    "plt.colorbar(label='counts')\n",
    "plt.xlabel('species')\n",
    "plt.ylabel('samples')"
   ]
  },
  {
   "cell_type": "code",
   "execution_count": 16,
   "metadata": {
    "collapsed": true
   },
   "outputs": [],
   "source": [
    "np.savetxt('sim.txt', Yc)"
   ]
  },
  {
   "cell_type": "code",
   "execution_count": null,
   "metadata": {
    "collapsed": true
   },
   "outputs": [],
   "source": []
  }
 ],
 "metadata": {
  "kernelspec": {
   "display_name": "Python 3",
   "language": "python",
   "name": "python3"
  },
  "language_info": {
   "codemirror_mode": {
    "name": "ipython",
    "version": 3
   },
   "file_extension": ".py",
   "mimetype": "text/x-python",
   "name": "python",
   "nbconvert_exporter": "python",
   "pygments_lexer": "ipython3",
   "version": "3.5.4"
  }
 },
 "nbformat": 4,
 "nbformat_minor": 2
}
